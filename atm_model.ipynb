# standard library
from typing import Any, Tuple

# dependencies
import casatools
import numpy as np
import matplotlib.pyplot as plt

# @title ATM model
def get_tau(
    f_min: float,
    f_max: float,
    f_step: float,
    pwv: float,
    **atm_params: Any,
) -> Tuple[np.ndarray, np.ndarray]:
    """Compute of zenith opacities at given frequencies.

    Args:
        f_min: Minimum frequency (in units of Hz).
        f_max: Maximum frequency (in units of Hz).
        f_step: Frequency step (in units of Hz).
        pwv: Precipitable water vapor (in units of mm).
        atm_params: Parameters fo the ATM model.

    Returns:
        freq: Array of frequencies (in units of Hz).
        tau: Array of zenith opacities at the frequencies.

    """
    at = casatools.atmosphere()
    qa = casatools.quanta()

    f_cent = qa.quantity((f_min + f_max) / 2, "Hz")
    f_width = qa.quantity(f_max - f_min + f_step, "Hz")
    f_step = qa.quantity(f_step, "Hz")
    pwv = qa.quantity(pwv, "mm")

    at.initAtmProfile(**atm_params)
    at.initSpectralWindow(1, f_cent, f_width, f_step)
    at.setUserWH2O(pwv)

    freq = qa.convert(at.getSpectralWindow(), "Hz")["value"]
    tau = at.getDryOpacitySpec()[1] + at.getWetOpacitySpec()[1]['value']

    return freq, tau
